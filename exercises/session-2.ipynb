{
 "cells": [
  {
   "attachments": {},
   "cell_type": "markdown",
   "metadata": {},
   "source": [
    "# Session 2 - Exercises and Mini Projects\n",
    "\n",
    "<a href=\"https://colab.research.google.com/github/dair-ai/pe-for-llms/blob/main/notebooks/session-1/demo-1.3.ipynb\" target=\"_parent\"><img src=\"https://colab.research.google.com/assets/colab-badge.svg\" alt=\"Open In Colab\"/></a>"
   ]
  },
  {
   "cell_type": "code",
   "execution_count": 4,
   "metadata": {},
   "outputs": [],
   "source": [
    "# load the libraries\n",
    "import openai\n",
    "import os\n",
    "import IPython\n",
    "from langchain.llms import OpenAI\n",
    "from dotenv import load_dotenv\n",
    "\n",
    "# load the environment variables\n",
    "load_dotenv()\n",
    "\n",
    "# API configuration\n",
    "openai.api_key = os.getenv(\"OPENAI_API_KEY\")"
   ]
  },
  {
   "attachments": {},
   "cell_type": "markdown",
   "metadata": {},
   "source": [
    "### Using The Chat LLM (GPT-3.5-Turbo)"
   ]
  },
  {
   "cell_type": "code",
   "execution_count": 5,
   "metadata": {},
   "outputs": [],
   "source": [
    "def get_completion(messages, model=\"gpt-3.5-turbo\", temperature=0, max_tokens=300):\n",
    "    response = openai.ChatCompletion.create(\n",
    "        model=model,\n",
    "        messages=messages,\n",
    "        temperature=temperature,\n",
    "        max_tokens=max_tokens,\n",
    "    )\n",
    "    return response.choices[0].message[\"content\"]"
   ]
  },
  {
   "attachments": {},
   "cell_type": "markdown",
   "metadata": {},
   "source": [
    "### Mini Project: Food Chatbot powered by Chain-of-Thought Prompting\n",
    "\n",
    "The task is to design a chain-of-thought prompt for a chatbot that helps users answer questions about a food menu. I've added a few steps to the prompt already but it's failing to send the appropriate response to the user in some scenarios.\n",
    "\n",
    "Your task is to tune the prompt and make sure that the response you are sending back to the user is following the desired behavior. Use any tactic that we have learned today to improve the prompt.\n",
    "\n",
    "The response to the user should only include the final response and not the reasoning steps.\n",
    "\n",
    "Here are some questions the food chatbot should be able to answer appropriately. You can also test more difficult questions. \n",
    "\n",
    "1) Do you have a kids' menu? \n",
    "\n",
    "2) Do you have any vegan options?\n",
    "\n",
    "3) How much for the shoes?\n",
    "\n",
    "4) Do you have mac & cheese?\n",
    "\n",
    "5) What's the price for the BBQ?\n",
    "\n",
    "6) What's the price for the mac & cheese?\n",
    "\n",
    "7) What's your most popular dish?\n"
   ]
  },
  {
   "cell_type": "code",
   "execution_count": null,
   "metadata": {},
   "outputs": [],
   "source": [
    "system_message = \"\"\"\n",
    "You are a food expert and will answer questions about our menu.\n",
    "\n",
    "Step 1: The first step is to check if the user is asking a question related to any type of food (even if that food item is not on the menu). If the question is about any type of food (even those not on the menu), we move on to Step 2 and ignore the rest of Step 1. If the question is not about food, then we send a response: \"Sorry! I cannot help with that. Please let me know if you have a question about our food menu.\"\n",
    "\n",
    "Step 2: In this step, we check that the user question is relevant to any of the items on the food menu. You should check that the food item exists in our menu first. If it doesn't exist then send a kind response to the user that the item doesn't exist in our menu and then include a list of available but similar food items without any other details (e.g., price). The food items available are provided below and delimited by +++++:\n",
    "\n",
    "+++++\n",
    "Menu: Kids Menu    \n",
    "Food Item: Mini Cheeseburger\n",
    "Price: $6.99\n",
    "Vegan: N\n",
    "Popularity: 4/5\n",
    "Included: Mini beef patty, cheese, lettuce, tomato, and fries.\n",
    "\n",
    "Menu: Appetizers\n",
    "Food Item: Loaded Potato Skins\n",
    "Price: $8.99\n",
    "Vegan: N\n",
    "Popularity: 3/5\n",
    "Included: Crispy potato skins filled with cheese, bacon bits, and served with sour cream.\n",
    "\n",
    "Menu: Appetizers\n",
    "Food Item: Bruschetta\n",
    "Price: $7.99\n",
    "Vegan: Y\n",
    "Popularity: 4/5\n",
    "Included: Toasted baguette slices topped with fresh tomatoes, basil, garlic, and balsamic glaze.\n",
    "\n",
    "Menu: Main Menu\n",
    "Food Item: Grilled Chicken Caesar Salad\n",
    "Price: $12.99\n",
    "Vegan: N\n",
    "Popularity: 4/5\n",
    "Included: Grilled chicken breast, romaine lettuce, Parmesan cheese, croutons, and Caesar dressing.\n",
    "\n",
    "Menu: Main Menu\n",
    "Food Item: Classic Cheese Pizza\n",
    "Price: $10.99\n",
    "Vegan: N\n",
    "Popularity: 5/5\n",
    "Included: Thin-crust pizza topped with tomato sauce, mozzarella cheese, and fresh basil.\n",
    "\n",
    "Menu: Main Menu\n",
    "Food Item: Spaghetti Bolognese\n",
    "Price: $14.99\n",
    "Vegan: N\n",
    "Popularity: 4/5\n",
    "Included: Pasta tossed in a savory meat sauce made with ground beef, tomatoes, onions, and herbs.\n",
    "\n",
    "Menu: Vegan Options\n",
    "Food Item: Veggie Wrap\n",
    "Price: $9.99\n",
    "Vegan: Y\n",
    "Popularity: 3/5\n",
    "Included: Grilled vegetables, hummus, mixed greens, and a wrap served with a side of sweet potato fries.\n",
    "\n",
    "Menu: Vegan Options\n",
    "Food Item: Vegan Beyond Burger\n",
    "Price: $11.99\n",
    "Vegan: Y\n",
    "Popularity: 4/5\n",
    "Included: Plant-based patty, vegan cheese, lettuce, tomato, onion, and a choice of regular or sweet potato fries.\n",
    "\n",
    "Menu: Desserts\n",
    "Food Item: Chocolate Lava Cake\n",
    "Price: $6.99\n",
    "Vegan: N\n",
    "Popularity: 5/5\n",
    "Included: Warm chocolate cake with a gooey molten center, served with vanilla ice cream.\n",
    "\n",
    "Menu: Desserts\n",
    "Food Item: Fresh Berry Parfait\n",
    "Price: $5.99\n",
    "Vegan: Y\n",
    "Popularity: 4/5\n",
    "Included: Layers of mixed berries, granola, and vegan coconut yogurt.\n",
    "+++++\n",
    "\n",
    "Step 3: If the item exist in our food menu and the user is requesting for specific information, provide that relevant information to the user using the food menu. Make sure to use a friendly tone and keep the response concise.\n",
    "\n",
    "Perform the following reasoning steps to send a response to the user:\n",
    "Step 1: <Step 1 reasoning>\n",
    "Step 2: <Step 2 reasoning>\n",
    "Response to the user: <response to user>\n",
    "\"\"\"\n",
    "\n",
    "user_message = \"\"\"\n",
    "What's your most popular dish?\n",
    "\"\"\"\n",
    "\n",
    "messages =  [  \n",
    "    {\n",
    "        \"role\": \"system\",\n",
    "        \"content\": system_message\n",
    "    },\n",
    "    {\n",
    "        \"role\": \"user\",\n",
    "        \"content\": user_message\n",
    "    }\n",
    "\n",
    "] \n",
    "\n",
    "response = get_completion(messages)\n",
    "print(response)"
   ]
  },
  {
   "attachments": {},
   "cell_type": "markdown",
   "metadata": {},
   "source": [
    "### Exercise: Steering the output\n",
    "\n",
    "In some cases, the prompt below outputs complaints and answers but we only want the answers as part of the response. To get rid of this ambiguity, add an additional instruction to the prompt below to steer the model to only output the answers only."
   ]
  },
  {
   "cell_type": "code",
   "execution_count": 12,
   "metadata": {},
   "outputs": [],
   "source": [
    "system_message_prompt = \"\"\"\n",
    "Your task is to analyze customer complaints and answer questions about the complaint. \n",
    "You will be provided with the user complaint.\n",
    "Output \"NA\" if you are not able to answer the question.\n",
    "\n",
    "Questions:\n",
    "1. What is the complaint about?\n",
    "2. What is the severity of the complaint (low, medium or high)?\n",
    "4. What is the category of the complaint (e.g., price, quality, shipping, etc)?\n",
    "\n",
    "Answers:\n",
    "\"\"\"\n",
    "\n",
    "user_complaint = \"\"\"I ordered a pair of shoes two weeks ago and still haven't received them. The tracking information hasn't been updated in days and I have no idea where my package is.\"\"\"\n",
    "\n",
    "messages = [\n",
    "    {\n",
    "        \"role\": \"system\",\n",
    "        \"content\": system_message_prompt\n",
    "    },\n",
    "    {\n",
    "        \"role\": \"user\",\n",
    "        \"content\": user_complaint\n",
    "    }\n",
    "]\n",
    "\n",
    "response = get_completion(messages)"
   ]
  },
  {
   "attachments": {},
   "cell_type": "markdown",
   "metadata": {},
   "source": [
    "### Exercise: Using Delimiters\n",
    "\n",
    "As you continue refining the prompt, ensure that you are paying attention to its structure. This can improve quality and reliability of responses and ensure desirable behavior. Please add a delimiter (e.g., \\`\\`\\` or ###) around the `complaint` part of the prompt, which corresponds to the user input."
   ]
  },
  {
   "cell_type": "code",
   "execution_count": 1,
   "metadata": {},
   "outputs": [],
   "source": [
    "### tune your prompt here and test it"
   ]
  },
  {
   "attachments": {},
   "cell_type": "markdown",
   "metadata": {},
   "source": [
    "### Exercise: Structuring Output\n",
    "\n",
    "As we showed during the demo in Session 1, it's useful to format the outputs in a desired format, especially if you are connecting the outputs of the model to another component that expects a specific format as input. Tune the prompt to output a JSON object of the form: `[{\"question\": \"answer\"},{\"question\": \"answer\"}]`."
   ]
  },
  {
   "cell_type": "code",
   "execution_count": 20,
   "metadata": {},
   "outputs": [],
   "source": [
    "### tune your prompt here and test it"
   ]
  },
  {
   "attachments": {},
   "cell_type": "markdown",
   "metadata": {},
   "source": [
    "### Mini Project: Classifying the Complaints\n",
    "\n",
    "Let's assume that for your e-commerce store you are able to support a specific list of complaints. The first step is to classify the complaint from the user. The idea is that once it has been classified you can open up a ticket, add a label to the ticket, and someone in customer support will be able to address it."
   ]
  },
  {
   "attachments": {},
   "cell_type": "markdown",
   "metadata": {},
   "source": [
    "You are provided the customer complaint categories below:"
   ]
  },
  {
   "cell_type": "code",
   "execution_count": null,
   "metadata": {},
   "outputs": [],
   "source": [
    "complaint_categories = \"\"\"\n",
    "Size and Fit Issues: Customers may complain about garments not fitting properly or not matching the size indicated on the website.\n",
    "\n",
    "Quality and Durability: Complaints about the poor quality of fabric, stitching, or overall construction of the clothing items.\n",
    "\n",
    "Incorrect or Damaged Items: Customers may receive incorrect products or items that have been damaged during shipping.\n",
    "\n",
    "Late or Non-Delivery: Complaints regarding delayed or non-delivery of orders, which can lead to inconvenience and frustration.\n",
    "\n",
    "Poor Customer Service: Customers may express dissatisfaction with the level of support received from customer service representatives, such as unhelpful responses or long response times.\n",
    "\n",
    "Returns and Refunds: Complaints related to difficulties or complications faced when trying to return items or obtain refunds, such as complicated return processes or delays in refund processing.\n",
    "\n",
    "Website and User Experience: Complaints about website navigation, glitches, slow loading speeds, or difficulties in finding specific products.\n",
    "\n",
    "Pricing and Promotions: Customers may complain about discrepancies in pricing, incorrect application of discounts or promotions, or misleading advertising.\n",
    "\n",
    "Lack of Product Information: Complaints about insufficient or inaccurate product descriptions, leading to misunderstandings or surprises upon receiving the items.\n",
    "\n",
    "Packaging and Presentation: Customers may express dissatisfaction with the packaging quality or presentation of the clothing items, especially if they were meant as gifts.\n",
    "\"\"\""
   ]
  },
  {
   "attachments": {},
   "cell_type": "markdown",
   "metadata": {},
   "source": [
    "The system prompt instructions to classify the complaint can look something like:\n",
    "```\n",
    "Your task is to classify the customer complaint given the categories below. \n",
    "Output the category if you are able to classify the complaint.\n",
    "Output \"Not Relevant\" if you are not able to classify the complaint.\n",
    "```\n",
    "\n",
    "Feel free to modify it and make sure to incorporate the complaint categories."
   ]
  },
  {
   "cell_type": "code",
   "execution_count": 30,
   "metadata": {},
   "outputs": [],
   "source": [
    "## design your system message prompt here\n",
    "system_message_prompt = \"\"\"\n",
    "\"\"\""
   ]
  },
  {
   "attachments": {},
   "cell_type": "markdown",
   "metadata": {},
   "source": [
    "You can test the prompt with the following two user complaints:"
   ]
  },
  {
   "cell_type": "code",
   "execution_count": 22,
   "metadata": {},
   "outputs": [],
   "source": [
    "# user complaint 1\n",
    "user_complaint_1 = \"I ordered a pair of shoes two weeks ago and still haven't received them. The tracking information hasn't been updated in days and I have no idea where my package is.\"\n",
    "\n",
    "messages = [\n",
    "    {\n",
    "        \"role\": \"system\",\n",
    "        \"content\": system_message_prompt\n",
    "    },\n",
    "    {\n",
    "        \"role\": \"user\",\n",
    "        \"content\": user_complaint_1\n",
    "    }\n",
    "]\n",
    "\n",
    "response = get_completion(messages)\n",
    "print(response)"
   ]
  },
  {
   "attachments": {},
   "cell_type": "markdown",
   "metadata": {},
   "source": [
    "The complaint below is irrelevant. Your task is to make sure that your prompt can capture this and classify is as \"Not Relevant\"."
   ]
  },
  {
   "cell_type": "code",
   "execution_count": null,
   "metadata": {},
   "outputs": [],
   "source": [
    "# user complaint 2\n",
    "user_complaint_2 = \"I lost my money. I cannot afford to pay my rent.\"\n",
    "\n",
    "messages = [\n",
    "    {\n",
    "        \"role\": \"system\",\n",
    "        \"content\": system_message_prompt\n",
    "    },\n",
    "    {\n",
    "        \"role\": \"user\",\n",
    "        \"content\": user_complaint_2\n",
    "    }\n",
    "]\n",
    "\n",
    "response = get_completion(messages)\n",
    "print(response)"
   ]
  },
  {
   "attachments": {},
   "cell_type": "markdown",
   "metadata": {},
   "source": [
    "### Mini Project: Prepare Information to Send to a Ticketing System"
   ]
  },
  {
   "attachments": {},
   "cell_type": "markdown",
   "metadata": {},
   "source": [
    "Design a system prompt that can conduct the following steps: \n",
    "\n",
    "- Categorize the complaint into a valid category as done in the previous exercise\n",
    "- You should also define a priority scale based on the type of complaint. Follow the following scale defined based on the category of complaint. Feel free to use labels such as `High`, `Medium`, and `Low` or a number scale such as `1-3`. You should always experiment and see what works best.\n",
    "\n",
    "```\n",
    "Category: Size and Fit Issues\n",
    "Priority:\n",
    "\n",
    "Category: Quality and Durability: \n",
    "Priority:\n",
    "\n",
    "Category: Incorrect or Damaged Items: \n",
    "Priority:\n",
    "\n",
    "Category: Late or Non-Delivery: \n",
    "Priority:\n",
    "\n",
    "Category: Poor Customer Service: \n",
    "Priority:\n",
    "\n",
    "Category: Returns and Refunds:\n",
    "Priority:\n",
    "\n",
    "Category: Website and User Experience: \n",
    "Priority:\n",
    "\n",
    "Category: Pricing and Promotions: \n",
    "Priority:\n",
    "\n",
    "Category: Lack of Product Information:\n",
    "Priority:\n",
    "\n",
    "Category: Packaging and Presentation: \n",
    "Priority:\n",
    "\n",
    "```\n",
    "- Define the severity of the complaint. This could mean a level of disruption to the customer. But this is subjective so you can define it in different ways and you could even use the priority as a criterion together with some other conditions you have defined. It's important to distinguish priority from severity. Just because a complaint is flagged as a high priority it doesn't mean it is of high severity. Even a low-priority complaint can have a high severity.\n",
    "- Extract any product name/s. \n",
    "- Output a JSON object with the following structure:\n",
    "\n",
    "```\n",
    "[\n",
    "    {\n",
    "        \"complaint\": <original complaint>,\n",
    "        \"category\": <category of complaint>,\n",
    "        \"priority\": <priority of complaint>,\n",
    "        \"product_names\": [<product names if any>]\n",
    "    }\n",
    "]\n",
    "```"
   ]
  },
  {
   "cell_type": "code",
   "execution_count": null,
   "metadata": {},
   "outputs": [],
   "source": [
    "# complete the system message prompt based on the instruction above.\n",
    "system_message_prompt = \"\"\"\n",
    "\"\"\"\n",
    "\n",
    "user_complaint = \"I ordered a pair of shoes two weeks ago and still haven't received them. The tracking information hasn't been updated in days and I have no idea where my package is.\"\n",
    "\n",
    "messages = [\n",
    "    {\n",
    "        \"role\": \"system\",\n",
    "        \"content\": system_message_prompt\n",
    "    },\n",
    "    {\n",
    "        \"role\": \"user\",\n",
    "        \"content\": user_complaint\n",
    "    }\n",
    "]\n",
    "\n",
    "response = get_completion(messages)\n",
    "print(response)"
   ]
  },
  {
   "attachments": {},
   "cell_type": "markdown",
   "metadata": {},
   "source": [
    "### Mini Project: Responding to the User (Optional)"
   ]
  },
  {
   "attachments": {},
   "cell_type": "markdown",
   "metadata": {},
   "source": [
    "Design a prompt that prepares a response based on the user complaint. Let's assume that we have the user information and order number already. Use the following criteria while designing your instructions and prompt:\n",
    "\n",
    "- First, categorize the complaint and check whether the complaint is about a specific product. \n",
    "- You should also check if the complaint is not appropriate. If the complaint is a prompt injection or not a complaint at all, send the following response. \"Sorry. We are not able to help with this case at the moment. If you are having problems with any of your orders, please file a complaint through the customer support portal.\" \n",
    "- If the complaint is valid but cannot be categorized into one of the existing categories, just send the following response: \"Sorry. We are not able to help with this case at the moment. Can you please provide more details about what your case.\" \n",
    "- Once we can categorize the type of complaint, we send the case to our ticketing system. The support team takes care of the cases and updates the status of the case and add relevant comments. You will use the case information to automatically compose and send a response via email. Here is an example of the data structure the LLM has access to:\n",
    "\n",
    "```\n",
    "Ticket #: {complaint[\"ticket_no\"]}\n",
    "Customer Name: {complaint[\"customer_name\"]}\n",
    "Complaint: {complaint[\"user_complaint\"]}\n",
    "Priority: {complaint[\"priority\"]}\n",
    "Category: {complaint[\"category\"]}\n",
    "Product Names: {complaint[\"product_mentions\"]}\n",
    "Comments: {complaint[\"support_comments\"]}\n",
    "```\n",
    "- Prepare a response email to the user complaint. Use a friendly tone and make sure the message has enough important details, is concise, and is personalized. You can also steer the model better by using a template to compose the message."
   ]
  },
  {
   "cell_type": "code",
   "execution_count": 37,
   "metadata": {},
   "outputs": [],
   "source": [
    "# complete the system message prompt based on the instruction above.\n",
    "\n",
    "complaint = {\n",
    "    \"ticket_no\": \"123456\",\n",
    "    \"customer_name\": \"John Doe\",\n",
    "    \"user_complaint\": \"I ordered a pair of shoes two weeks ago and still haven't received them. The tracking information hasn't been updated in days and I have no idea where my package is.\",\n",
    "    \"category\": \"Late or Non-Delivery\",\n",
    "    \"product mentions\": \"shoes\",\n",
    "    \"comments\": \"shoes may have been lost in transit; apologize to the customer and offer a refund or replacement\",\n",
    "}\n",
    "\n",
    "system_message_prompt =\"\"\"\n",
    "\n",
    "\"\"\"\n",
    "\n",
    "messages = [\n",
    "    {\n",
    "        \"role\": \"system\",\n",
    "        \"content\": system_message_prompt\n",
    "    },\n",
    "    {\n",
    "        \"role\": \"user\",\n",
    "        \"content\": complaint[\"user_complaint\"]\n",
    "    }\n",
    "]\n",
    "\n",
    "response = get_completion(messages)\n",
    "print(response)"
   ]
  }
 ],
 "metadata": {
  "kernelspec": {
   "display_name": "langchain",
   "language": "python",
   "name": "python3"
  },
  "language_info": {
   "codemirror_mode": {
    "name": "ipython",
    "version": 3
   },
   "file_extension": ".py",
   "mimetype": "text/x-python",
   "name": "python",
   "nbconvert_exporter": "python",
   "pygments_lexer": "ipython3",
   "version": "3.9.16"
  },
  "orig_nbformat": 4
 },
 "nbformat": 4,
 "nbformat_minor": 2
}
